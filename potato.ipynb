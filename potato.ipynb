{
 "cells": [
  {
   "cell_type": "code",
   "execution_count": 2,
   "id": "66ff1776-a7b0-43e6-964e-ddb9aeb34cee",
   "metadata": {},
   "outputs": [],
   "source": [
    "import pandas as pd\n",
    "import numpy as np\n",
    "import seaborn as sns\n",
    "import matplotlib.pyplot as plt"
   ]
  },
  {
   "cell_type": "code",
   "execution_count": 3,
   "id": "239f6dce-0c28-433e-9c11-659ebeb1e3a2",
   "metadata": {},
   "outputs": [
    {
     "data": {
      "text/html": [
       "<div>\n",
       "<style scoped>\n",
       "    .dataframe tbody tr th:only-of-type {\n",
       "        vertical-align: middle;\n",
       "    }\n",
       "\n",
       "    .dataframe tbody tr th {\n",
       "        vertical-align: top;\n",
       "    }\n",
       "\n",
       "    .dataframe thead th {\n",
       "        text-align: right;\n",
       "    }\n",
       "</style>\n",
       "<table border=\"1\" class=\"dataframe\">\n",
       "  <thead>\n",
       "    <tr style=\"text-align: right;\">\n",
       "      <th></th>\n",
       "      <th>Date</th>\n",
       "      <th>Centre_Name</th>\n",
       "      <th>Commodity_Name</th>\n",
       "      <th>Price</th>\n",
       "    </tr>\n",
       "  </thead>\n",
       "  <tbody>\n",
       "    <tr>\n",
       "      <th>0</th>\n",
       "      <td>01-01-2013</td>\n",
       "      <td>CHANDIGARH</td>\n",
       "      <td>Potato</td>\n",
       "      <td>8.0</td>\n",
       "    </tr>\n",
       "    <tr>\n",
       "      <th>1</th>\n",
       "      <td>01-01-2013</td>\n",
       "      <td>DELHI</td>\n",
       "      <td>Potato</td>\n",
       "      <td>12.0</td>\n",
       "    </tr>\n",
       "    <tr>\n",
       "      <th>2</th>\n",
       "      <td>01-01-2013</td>\n",
       "      <td>HISAR</td>\n",
       "      <td>Potato</td>\n",
       "      <td>NaN</td>\n",
       "    </tr>\n",
       "    <tr>\n",
       "      <th>3</th>\n",
       "      <td>01-01-2013</td>\n",
       "      <td>KARNAL</td>\n",
       "      <td>Potato</td>\n",
       "      <td>NaN</td>\n",
       "    </tr>\n",
       "    <tr>\n",
       "      <th>4</th>\n",
       "      <td>01-01-2013</td>\n",
       "      <td>SHIMLA</td>\n",
       "      <td>Potato</td>\n",
       "      <td>NaN</td>\n",
       "    </tr>\n",
       "    <tr>\n",
       "      <th>...</th>\n",
       "      <td>...</td>\n",
       "      <td>...</td>\n",
       "      <td>...</td>\n",
       "      <td>...</td>\n",
       "    </tr>\n",
       "    <tr>\n",
       "      <th>33779</th>\n",
       "      <td>28-04-2015</td>\n",
       "      <td>DINDIGUL</td>\n",
       "      <td>Potato</td>\n",
       "      <td>17.0</td>\n",
       "    </tr>\n",
       "    <tr>\n",
       "      <th>33780</th>\n",
       "      <td>28-04-2015</td>\n",
       "      <td>THIRUCHIRAPALLI</td>\n",
       "      <td>Potato</td>\n",
       "      <td>17.0</td>\n",
       "    </tr>\n",
       "    <tr>\n",
       "      <th>33781</th>\n",
       "      <td>28-04-2015</td>\n",
       "      <td>COIMBATORE</td>\n",
       "      <td>Potato</td>\n",
       "      <td>16.0</td>\n",
       "    </tr>\n",
       "    <tr>\n",
       "      <th>33782</th>\n",
       "      <td>28-04-2015</td>\n",
       "      <td>TIRUNELVELI</td>\n",
       "      <td>Potato</td>\n",
       "      <td>16.0</td>\n",
       "    </tr>\n",
       "    <tr>\n",
       "      <th>33783</th>\n",
       "      <td>28-04-2015</td>\n",
       "      <td>HYDERABAD</td>\n",
       "      <td>Potato</td>\n",
       "      <td>22.0</td>\n",
       "    </tr>\n",
       "  </tbody>\n",
       "</table>\n",
       "<p>33784 rows × 4 columns</p>\n",
       "</div>"
      ],
      "text/plain": [
       "             Date      Centre_Name Commodity_Name  Price\n",
       "0      01-01-2013       CHANDIGARH         Potato    8.0\n",
       "1      01-01-2013            DELHI         Potato   12.0\n",
       "2      01-01-2013            HISAR         Potato    NaN\n",
       "3      01-01-2013           KARNAL         Potato    NaN\n",
       "4      01-01-2013           SHIMLA         Potato    NaN\n",
       "...           ...              ...            ...    ...\n",
       "33779  28-04-2015         DINDIGUL         Potato   17.0\n",
       "33780  28-04-2015  THIRUCHIRAPALLI         Potato   17.0\n",
       "33781  28-04-2015       COIMBATORE         Potato   16.0\n",
       "33782  28-04-2015      TIRUNELVELI         Potato   16.0\n",
       "33783  28-04-2015        HYDERABAD         Potato   22.0\n",
       "\n",
       "[33784 rows x 4 columns]"
      ]
     },
     "execution_count": 3,
     "metadata": {},
     "output_type": "execute_result"
    }
   ],
   "source": [
    "data = pd.read_csv('potato.csv')\n",
    "data"
   ]
  },
  {
   "cell_type": "code",
   "execution_count": 4,
   "id": "dec362c4-83b3-4b73-a4ff-ae455a71fe74",
   "metadata": {},
   "outputs": [
    {
     "data": {
      "text/html": [
       "<div>\n",
       "<style scoped>\n",
       "    .dataframe tbody tr th:only-of-type {\n",
       "        vertical-align: middle;\n",
       "    }\n",
       "\n",
       "    .dataframe tbody tr th {\n",
       "        vertical-align: top;\n",
       "    }\n",
       "\n",
       "    .dataframe thead th {\n",
       "        text-align: right;\n",
       "    }\n",
       "</style>\n",
       "<table border=\"1\" class=\"dataframe\">\n",
       "  <thead>\n",
       "    <tr style=\"text-align: right;\">\n",
       "      <th></th>\n",
       "      <th>Date</th>\n",
       "      <th>Centre_Name</th>\n",
       "      <th>Commodity_Name</th>\n",
       "      <th>Price</th>\n",
       "    </tr>\n",
       "  </thead>\n",
       "  <tbody>\n",
       "    <tr>\n",
       "      <th>0</th>\n",
       "      <td>01-01-2013</td>\n",
       "      <td>CHANDIGARH</td>\n",
       "      <td>Potato</td>\n",
       "      <td>8.0</td>\n",
       "    </tr>\n",
       "    <tr>\n",
       "      <th>1</th>\n",
       "      <td>01-01-2013</td>\n",
       "      <td>DELHI</td>\n",
       "      <td>Potato</td>\n",
       "      <td>12.0</td>\n",
       "    </tr>\n",
       "    <tr>\n",
       "      <th>2</th>\n",
       "      <td>01-01-2013</td>\n",
       "      <td>HISAR</td>\n",
       "      <td>Potato</td>\n",
       "      <td>NaN</td>\n",
       "    </tr>\n",
       "    <tr>\n",
       "      <th>3</th>\n",
       "      <td>01-01-2013</td>\n",
       "      <td>KARNAL</td>\n",
       "      <td>Potato</td>\n",
       "      <td>NaN</td>\n",
       "    </tr>\n",
       "    <tr>\n",
       "      <th>4</th>\n",
       "      <td>01-01-2013</td>\n",
       "      <td>SHIMLA</td>\n",
       "      <td>Potato</td>\n",
       "      <td>NaN</td>\n",
       "    </tr>\n",
       "  </tbody>\n",
       "</table>\n",
       "</div>"
      ],
      "text/plain": [
       "         Date Centre_Name Commodity_Name  Price\n",
       "0  01-01-2013  CHANDIGARH         Potato    8.0\n",
       "1  01-01-2013       DELHI         Potato   12.0\n",
       "2  01-01-2013       HISAR         Potato    NaN\n",
       "3  01-01-2013      KARNAL         Potato    NaN\n",
       "4  01-01-2013      SHIMLA         Potato    NaN"
      ]
     },
     "execution_count": 4,
     "metadata": {},
     "output_type": "execute_result"
    }
   ],
   "source": [
    "data.head()"
   ]
  },
  {
   "cell_type": "code",
   "execution_count": null,
   "id": "c9b82757-0adf-4b3f-824c-7450426af261",
   "metadata": {},
   "outputs": [],
   "source": [
    "# drop -> date, Commodity_Name\n",
    "# label encoder -> Centre_Name"
   ]
  },
  {
   "cell_type": "code",
   "execution_count": 7,
   "id": "899980e4-24b9-4c13-a9cb-cd35487d5335",
   "metadata": {},
   "outputs": [
    {
     "data": {
      "text/plain": [
       "array(['Potato'], dtype=object)"
      ]
     },
     "execution_count": 7,
     "metadata": {},
     "output_type": "execute_result"
    }
   ],
   "source": [
    "data.Commodity_Name.unique()"
   ]
  },
  {
   "cell_type": "code",
   "execution_count": 8,
   "id": "1e1f7561-4d67-4585-8aeb-a232a5a7287e",
   "metadata": {},
   "outputs": [
    {
     "data": {
      "text/plain": [
       "array(['CHANDIGARH', 'DELHI', 'HISAR', 'KARNAL', 'SHIMLA', 'MANDI',\n",
       "       'SRINAGAR', 'JAMMU', 'AMRITSAR', 'LUDHIANA', 'BATHINDA', 'LUCKNOW',\n",
       "       'KANPUR', 'VARANASI', 'AGRA', 'DEHRADUN', 'RAIPUR', 'PANAJI',\n",
       "       'AHMEDABAD', 'RAJKOT', 'BHOPAL', 'INDORE', 'GWALIOR', 'JABALPUR',\n",
       "       'MUMBAI', 'NAGPUR', 'JAIPUR', 'JODHPUR', 'KOTA', 'PATNA',\n",
       "       'BHAGALPUR', 'RANCHI', 'BHUBANESHWAR', 'CUTTACK', 'SAMBALPUR',\n",
       "       'KOLKATA', 'SILIGURI', 'PORT BLAIR', 'ITANAGAR', 'GUWAHATI',\n",
       "       'SHILLONG', 'AIZWAL', 'DIMAPUR', 'AGARTALA', 'VIJAYWADA',\n",
       "       'BENGALURU', 'DHARWAD', 'T.PURAM', 'ERNAKULAM', 'KOZHIKODE',\n",
       "       'PUDUCHERRY', 'CHENNAI', 'DINDIGUL', 'THIRUCHIRAPALLI',\n",
       "       'HYDERABAD', 'ROURKELA', 'VISAKHAPATNAM', 'PANCHKULA', 'GURGAON',\n",
       "       'REWA', 'SAGAR', 'COIMBATORE', 'TIRUNELVELI', 'PURNIA', 'THRISSUR',\n",
       "       'PALAKKAD', 'WAYANAD', 'HALDWANI', 'DHARAMSHALA', 'MANGALORE',\n",
       "       'MYSORE'], dtype=object)"
      ]
     },
     "execution_count": 8,
     "metadata": {},
     "output_type": "execute_result"
    }
   ],
   "source": [
    "data.Centre_Name.unique()"
   ]
  },
  {
   "cell_type": "code",
   "execution_count": 16,
   "id": "53bb7309-c3a0-47a6-9c39-768942e00772",
   "metadata": {},
   "outputs": [],
   "source": [
    "# drop values \n",
    "data_droped = data.copy()\n",
    "data_droped.drop(columns=['Commodity_Name'], inplace=True)"
   ]
  },
  {
   "cell_type": "code",
   "execution_count": 17,
   "id": "7b108fad-8acc-42c0-b837-73a0ac414810",
   "metadata": {},
   "outputs": [
    {
     "data": {
      "text/html": [
       "<div>\n",
       "<style scoped>\n",
       "    .dataframe tbody tr th:only-of-type {\n",
       "        vertical-align: middle;\n",
       "    }\n",
       "\n",
       "    .dataframe tbody tr th {\n",
       "        vertical-align: top;\n",
       "    }\n",
       "\n",
       "    .dataframe thead th {\n",
       "        text-align: right;\n",
       "    }\n",
       "</style>\n",
       "<table border=\"1\" class=\"dataframe\">\n",
       "  <thead>\n",
       "    <tr style=\"text-align: right;\">\n",
       "      <th></th>\n",
       "      <th>Date</th>\n",
       "      <th>Centre_Name</th>\n",
       "      <th>Price</th>\n",
       "    </tr>\n",
       "  </thead>\n",
       "  <tbody>\n",
       "    <tr>\n",
       "      <th>0</th>\n",
       "      <td>01-01-2013</td>\n",
       "      <td>CHANDIGARH</td>\n",
       "      <td>8.0</td>\n",
       "    </tr>\n",
       "    <tr>\n",
       "      <th>1</th>\n",
       "      <td>01-01-2013</td>\n",
       "      <td>DELHI</td>\n",
       "      <td>12.0</td>\n",
       "    </tr>\n",
       "    <tr>\n",
       "      <th>2</th>\n",
       "      <td>01-01-2013</td>\n",
       "      <td>HISAR</td>\n",
       "      <td>NaN</td>\n",
       "    </tr>\n",
       "    <tr>\n",
       "      <th>3</th>\n",
       "      <td>01-01-2013</td>\n",
       "      <td>KARNAL</td>\n",
       "      <td>NaN</td>\n",
       "    </tr>\n",
       "    <tr>\n",
       "      <th>4</th>\n",
       "      <td>01-01-2013</td>\n",
       "      <td>SHIMLA</td>\n",
       "      <td>NaN</td>\n",
       "    </tr>\n",
       "    <tr>\n",
       "      <th>...</th>\n",
       "      <td>...</td>\n",
       "      <td>...</td>\n",
       "      <td>...</td>\n",
       "    </tr>\n",
       "    <tr>\n",
       "      <th>33779</th>\n",
       "      <td>28-04-2015</td>\n",
       "      <td>DINDIGUL</td>\n",
       "      <td>17.0</td>\n",
       "    </tr>\n",
       "    <tr>\n",
       "      <th>33780</th>\n",
       "      <td>28-04-2015</td>\n",
       "      <td>THIRUCHIRAPALLI</td>\n",
       "      <td>17.0</td>\n",
       "    </tr>\n",
       "    <tr>\n",
       "      <th>33781</th>\n",
       "      <td>28-04-2015</td>\n",
       "      <td>COIMBATORE</td>\n",
       "      <td>16.0</td>\n",
       "    </tr>\n",
       "    <tr>\n",
       "      <th>33782</th>\n",
       "      <td>28-04-2015</td>\n",
       "      <td>TIRUNELVELI</td>\n",
       "      <td>16.0</td>\n",
       "    </tr>\n",
       "    <tr>\n",
       "      <th>33783</th>\n",
       "      <td>28-04-2015</td>\n",
       "      <td>HYDERABAD</td>\n",
       "      <td>22.0</td>\n",
       "    </tr>\n",
       "  </tbody>\n",
       "</table>\n",
       "<p>33784 rows × 3 columns</p>\n",
       "</div>"
      ],
      "text/plain": [
       "             Date      Centre_Name  Price\n",
       "0      01-01-2013       CHANDIGARH    8.0\n",
       "1      01-01-2013            DELHI   12.0\n",
       "2      01-01-2013            HISAR    NaN\n",
       "3      01-01-2013           KARNAL    NaN\n",
       "4      01-01-2013           SHIMLA    NaN\n",
       "...           ...              ...    ...\n",
       "33779  28-04-2015         DINDIGUL   17.0\n",
       "33780  28-04-2015  THIRUCHIRAPALLI   17.0\n",
       "33781  28-04-2015       COIMBATORE   16.0\n",
       "33782  28-04-2015      TIRUNELVELI   16.0\n",
       "33783  28-04-2015        HYDERABAD   22.0\n",
       "\n",
       "[33784 rows x 3 columns]"
      ]
     },
     "execution_count": 17,
     "metadata": {},
     "output_type": "execute_result"
    }
   ],
   "source": [
    "data_droped"
   ]
  },
  {
   "cell_type": "code",
   "execution_count": 18,
   "id": "e2755702-c8ab-4fdf-b9e7-d8b3ca77837c",
   "metadata": {},
   "outputs": [
    {
     "data": {
      "text/plain": [
       "566"
      ]
     },
     "execution_count": 18,
     "metadata": {},
     "output_type": "execute_result"
    }
   ],
   "source": [
    "len(data.Date.unique())"
   ]
  },
  {
   "cell_type": "code",
   "execution_count": 45,
   "id": "0d2ae1e5-423f-4c56-8cdf-bf9803d7ea24",
   "metadata": {},
   "outputs": [],
   "source": [
    "days = []\n",
    "months = []\n",
    "years = []\n",
    "for date in data.Date:\n",
    "    day, month, year = date.split('-')\n",
    "    days.append(int(day))\n",
    "    months.append(int(month))\n",
    "    years.append(int(year))"
   ]
  },
  {
   "cell_type": "code",
   "execution_count": 46,
   "id": "086df732-cce0-4dff-b723-04bfe0e9d1da",
   "metadata": {},
   "outputs": [
    {
     "name": "stdout",
     "output_type": "stream",
     "text": [
      "{1, 2, 3, 4, 5, 6, 7, 8, 9, 10, 11, 12, 13, 14, 15, 16, 17, 18, 19, 20, 21, 22, 23, 24, 25, 26, 27, 28, 29, 30, 31}\n",
      "31\n"
     ]
    }
   ],
   "source": [
    "print(set(days))\n",
    "print(len(set(days)))"
   ]
  },
  {
   "cell_type": "code",
   "execution_count": 47,
   "id": "704b9c21-4e15-4399-8240-1477ca537552",
   "metadata": {},
   "outputs": [
    {
     "name": "stdout",
     "output_type": "stream",
     "text": [
      "{1, 2, 3, 4, 5, 6, 7, 8, 9, 10, 11, 12}\n",
      "12\n"
     ]
    }
   ],
   "source": [
    "print(set(months))\n",
    "print(len(set(months)))"
   ]
  },
  {
   "cell_type": "code",
   "execution_count": 48,
   "id": "4e4c71fc-da61-435e-b2e5-4ad5ad95ee1a",
   "metadata": {},
   "outputs": [],
   "source": [
    "# we can split the date into 3 columns"
   ]
  },
  {
   "cell_type": "code",
   "execution_count": 49,
   "id": "9c6cd07f-2ccd-4acf-ac60-6d57ee599563",
   "metadata": {},
   "outputs": [
    {
     "data": {
      "text/plain": [
       "33784"
      ]
     },
     "execution_count": 49,
     "metadata": {},
     "output_type": "execute_result"
    }
   ],
   "source": [
    "len(days)"
   ]
  },
  {
   "cell_type": "code",
   "execution_count": 50,
   "id": "95333f44-a6ad-4c1d-baab-4c1f2e347d12",
   "metadata": {},
   "outputs": [
    {
     "data": {
      "text/plain": [
       "33784"
      ]
     },
     "execution_count": 50,
     "metadata": {},
     "output_type": "execute_result"
    }
   ],
   "source": [
    "len(months)"
   ]
  },
  {
   "cell_type": "code",
   "execution_count": 51,
   "id": "ebfef56c-820a-4778-a023-815b28972fd4",
   "metadata": {},
   "outputs": [
    {
     "data": {
      "text/plain": [
       "33784"
      ]
     },
     "execution_count": 51,
     "metadata": {},
     "output_type": "execute_result"
    }
   ],
   "source": [
    "len(years)"
   ]
  },
  {
   "cell_type": "code",
   "execution_count": 52,
   "id": "03ccc2c5-9459-470c-a0d2-92498d9e57ba",
   "metadata": {},
   "outputs": [],
   "source": [
    "data_dictionary = {'Days':days, 'Months':months, 'Years':years}\n",
    "date_dataframe = pd.DataFrame(data_dictionary) "
   ]
  },
  {
   "cell_type": "code",
   "execution_count": 53,
   "id": "5298581f-95bf-4748-a319-484d9b0df7ca",
   "metadata": {},
   "outputs": [
    {
     "data": {
      "text/html": [
       "<div>\n",
       "<style scoped>\n",
       "    .dataframe tbody tr th:only-of-type {\n",
       "        vertical-align: middle;\n",
       "    }\n",
       "\n",
       "    .dataframe tbody tr th {\n",
       "        vertical-align: top;\n",
       "    }\n",
       "\n",
       "    .dataframe thead th {\n",
       "        text-align: right;\n",
       "    }\n",
       "</style>\n",
       "<table border=\"1\" class=\"dataframe\">\n",
       "  <thead>\n",
       "    <tr style=\"text-align: right;\">\n",
       "      <th></th>\n",
       "      <th>Days</th>\n",
       "      <th>Months</th>\n",
       "      <th>Years</th>\n",
       "    </tr>\n",
       "  </thead>\n",
       "  <tbody>\n",
       "    <tr>\n",
       "      <th>0</th>\n",
       "      <td>1</td>\n",
       "      <td>1</td>\n",
       "      <td>2013</td>\n",
       "    </tr>\n",
       "    <tr>\n",
       "      <th>1</th>\n",
       "      <td>1</td>\n",
       "      <td>1</td>\n",
       "      <td>2013</td>\n",
       "    </tr>\n",
       "    <tr>\n",
       "      <th>2</th>\n",
       "      <td>1</td>\n",
       "      <td>1</td>\n",
       "      <td>2013</td>\n",
       "    </tr>\n",
       "    <tr>\n",
       "      <th>3</th>\n",
       "      <td>1</td>\n",
       "      <td>1</td>\n",
       "      <td>2013</td>\n",
       "    </tr>\n",
       "    <tr>\n",
       "      <th>4</th>\n",
       "      <td>1</td>\n",
       "      <td>1</td>\n",
       "      <td>2013</td>\n",
       "    </tr>\n",
       "    <tr>\n",
       "      <th>...</th>\n",
       "      <td>...</td>\n",
       "      <td>...</td>\n",
       "      <td>...</td>\n",
       "    </tr>\n",
       "    <tr>\n",
       "      <th>33779</th>\n",
       "      <td>28</td>\n",
       "      <td>4</td>\n",
       "      <td>2015</td>\n",
       "    </tr>\n",
       "    <tr>\n",
       "      <th>33780</th>\n",
       "      <td>28</td>\n",
       "      <td>4</td>\n",
       "      <td>2015</td>\n",
       "    </tr>\n",
       "    <tr>\n",
       "      <th>33781</th>\n",
       "      <td>28</td>\n",
       "      <td>4</td>\n",
       "      <td>2015</td>\n",
       "    </tr>\n",
       "    <tr>\n",
       "      <th>33782</th>\n",
       "      <td>28</td>\n",
       "      <td>4</td>\n",
       "      <td>2015</td>\n",
       "    </tr>\n",
       "    <tr>\n",
       "      <th>33783</th>\n",
       "      <td>28</td>\n",
       "      <td>4</td>\n",
       "      <td>2015</td>\n",
       "    </tr>\n",
       "  </tbody>\n",
       "</table>\n",
       "<p>33784 rows × 3 columns</p>\n",
       "</div>"
      ],
      "text/plain": [
       "       Days  Months  Years\n",
       "0         1       1   2013\n",
       "1         1       1   2013\n",
       "2         1       1   2013\n",
       "3         1       1   2013\n",
       "4         1       1   2013\n",
       "...     ...     ...    ...\n",
       "33779    28       4   2015\n",
       "33780    28       4   2015\n",
       "33781    28       4   2015\n",
       "33782    28       4   2015\n",
       "33783    28       4   2015\n",
       "\n",
       "[33784 rows x 3 columns]"
      ]
     },
     "execution_count": 53,
     "metadata": {},
     "output_type": "execute_result"
    }
   ],
   "source": [
    "date_dataframe"
   ]
  },
  {
   "cell_type": "code",
   "execution_count": 54,
   "id": "dd565379-942e-4721-9bf3-8519e9bb7371",
   "metadata": {},
   "outputs": [
    {
     "name": "stdout",
     "output_type": "stream",
     "text": [
      "<class 'pandas.core.frame.DataFrame'>\n",
      "RangeIndex: 33784 entries, 0 to 33783\n",
      "Data columns (total 3 columns):\n",
      " #   Column  Non-Null Count  Dtype\n",
      "---  ------  --------------  -----\n",
      " 0   Days    33784 non-null  int64\n",
      " 1   Months  33784 non-null  int64\n",
      " 2   Years   33784 non-null  int64\n",
      "dtypes: int64(3)\n",
      "memory usage: 791.9 KB\n"
     ]
    }
   ],
   "source": [
    "date_dataframe.info()"
   ]
  },
  {
   "cell_type": "code",
   "execution_count": 59,
   "id": "03708347-2295-4bf2-92c2-c1b68c6b0829",
   "metadata": {},
   "outputs": [],
   "source": [
    "new_dataframe = pd.concat([date_dataframe, data_droped], axis=1)\n",
    "new_dataframe.drop(columns=['Date'], inplace=True)"
   ]
  },
  {
   "cell_type": "code",
   "execution_count": 60,
   "id": "29a4b383-6b6a-4388-8193-62de64e94101",
   "metadata": {},
   "outputs": [
    {
     "data": {
      "text/html": [
       "<div>\n",
       "<style scoped>\n",
       "    .dataframe tbody tr th:only-of-type {\n",
       "        vertical-align: middle;\n",
       "    }\n",
       "\n",
       "    .dataframe tbody tr th {\n",
       "        vertical-align: top;\n",
       "    }\n",
       "\n",
       "    .dataframe thead th {\n",
       "        text-align: right;\n",
       "    }\n",
       "</style>\n",
       "<table border=\"1\" class=\"dataframe\">\n",
       "  <thead>\n",
       "    <tr style=\"text-align: right;\">\n",
       "      <th></th>\n",
       "      <th>Days</th>\n",
       "      <th>Months</th>\n",
       "      <th>Years</th>\n",
       "      <th>Centre_Name</th>\n",
       "      <th>Price</th>\n",
       "    </tr>\n",
       "  </thead>\n",
       "  <tbody>\n",
       "    <tr>\n",
       "      <th>0</th>\n",
       "      <td>1</td>\n",
       "      <td>1</td>\n",
       "      <td>2013</td>\n",
       "      <td>CHANDIGARH</td>\n",
       "      <td>8.0</td>\n",
       "    </tr>\n",
       "    <tr>\n",
       "      <th>1</th>\n",
       "      <td>1</td>\n",
       "      <td>1</td>\n",
       "      <td>2013</td>\n",
       "      <td>DELHI</td>\n",
       "      <td>12.0</td>\n",
       "    </tr>\n",
       "    <tr>\n",
       "      <th>2</th>\n",
       "      <td>1</td>\n",
       "      <td>1</td>\n",
       "      <td>2013</td>\n",
       "      <td>HISAR</td>\n",
       "      <td>NaN</td>\n",
       "    </tr>\n",
       "    <tr>\n",
       "      <th>3</th>\n",
       "      <td>1</td>\n",
       "      <td>1</td>\n",
       "      <td>2013</td>\n",
       "      <td>KARNAL</td>\n",
       "      <td>NaN</td>\n",
       "    </tr>\n",
       "    <tr>\n",
       "      <th>4</th>\n",
       "      <td>1</td>\n",
       "      <td>1</td>\n",
       "      <td>2013</td>\n",
       "      <td>SHIMLA</td>\n",
       "      <td>NaN</td>\n",
       "    </tr>\n",
       "    <tr>\n",
       "      <th>...</th>\n",
       "      <td>...</td>\n",
       "      <td>...</td>\n",
       "      <td>...</td>\n",
       "      <td>...</td>\n",
       "      <td>...</td>\n",
       "    </tr>\n",
       "    <tr>\n",
       "      <th>33779</th>\n",
       "      <td>28</td>\n",
       "      <td>4</td>\n",
       "      <td>2015</td>\n",
       "      <td>DINDIGUL</td>\n",
       "      <td>17.0</td>\n",
       "    </tr>\n",
       "    <tr>\n",
       "      <th>33780</th>\n",
       "      <td>28</td>\n",
       "      <td>4</td>\n",
       "      <td>2015</td>\n",
       "      <td>THIRUCHIRAPALLI</td>\n",
       "      <td>17.0</td>\n",
       "    </tr>\n",
       "    <tr>\n",
       "      <th>33781</th>\n",
       "      <td>28</td>\n",
       "      <td>4</td>\n",
       "      <td>2015</td>\n",
       "      <td>COIMBATORE</td>\n",
       "      <td>16.0</td>\n",
       "    </tr>\n",
       "    <tr>\n",
       "      <th>33782</th>\n",
       "      <td>28</td>\n",
       "      <td>4</td>\n",
       "      <td>2015</td>\n",
       "      <td>TIRUNELVELI</td>\n",
       "      <td>16.0</td>\n",
       "    </tr>\n",
       "    <tr>\n",
       "      <th>33783</th>\n",
       "      <td>28</td>\n",
       "      <td>4</td>\n",
       "      <td>2015</td>\n",
       "      <td>HYDERABAD</td>\n",
       "      <td>22.0</td>\n",
       "    </tr>\n",
       "  </tbody>\n",
       "</table>\n",
       "<p>33784 rows × 5 columns</p>\n",
       "</div>"
      ],
      "text/plain": [
       "       Days  Months  Years      Centre_Name  Price\n",
       "0         1       1   2013       CHANDIGARH    8.0\n",
       "1         1       1   2013            DELHI   12.0\n",
       "2         1       1   2013            HISAR    NaN\n",
       "3         1       1   2013           KARNAL    NaN\n",
       "4         1       1   2013           SHIMLA    NaN\n",
       "...     ...     ...    ...              ...    ...\n",
       "33779    28       4   2015         DINDIGUL   17.0\n",
       "33780    28       4   2015  THIRUCHIRAPALLI   17.0\n",
       "33781    28       4   2015       COIMBATORE   16.0\n",
       "33782    28       4   2015      TIRUNELVELI   16.0\n",
       "33783    28       4   2015        HYDERABAD   22.0\n",
       "\n",
       "[33784 rows x 5 columns]"
      ]
     },
     "execution_count": 60,
     "metadata": {},
     "output_type": "execute_result"
    }
   ],
   "source": [
    "new_dataframe"
   ]
  },
  {
   "cell_type": "code",
   "execution_count": 61,
   "id": "2ab33fbd-9f74-424d-808a-056a095fddad",
   "metadata": {},
   "outputs": [],
   "source": [
    "# apply label encoder on Centre_Name\n",
    "from sklearn.preprocessing import LabelEncoder\n",
    "lb = LabelEncoder()\n",
    "new_dataframe['Centre_Name'] = lb.fit_transform(new_dataframe['Centre_Name'])"
   ]
  },
  {
   "cell_type": "code",
   "execution_count": 62,
   "id": "df9616dc-411b-42de-a00a-f1ffb365e5ae",
   "metadata": {},
   "outputs": [
    {
     "data": {
      "text/html": [
       "<div>\n",
       "<style scoped>\n",
       "    .dataframe tbody tr th:only-of-type {\n",
       "        vertical-align: middle;\n",
       "    }\n",
       "\n",
       "    .dataframe tbody tr th {\n",
       "        vertical-align: top;\n",
       "    }\n",
       "\n",
       "    .dataframe thead th {\n",
       "        text-align: right;\n",
       "    }\n",
       "</style>\n",
       "<table border=\"1\" class=\"dataframe\">\n",
       "  <thead>\n",
       "    <tr style=\"text-align: right;\">\n",
       "      <th></th>\n",
       "      <th>Days</th>\n",
       "      <th>Months</th>\n",
       "      <th>Years</th>\n",
       "      <th>Centre_Name</th>\n",
       "      <th>Price</th>\n",
       "    </tr>\n",
       "  </thead>\n",
       "  <tbody>\n",
       "    <tr>\n",
       "      <th>0</th>\n",
       "      <td>1</td>\n",
       "      <td>1</td>\n",
       "      <td>2013</td>\n",
       "      <td>10</td>\n",
       "      <td>8.0</td>\n",
       "    </tr>\n",
       "    <tr>\n",
       "      <th>1</th>\n",
       "      <td>1</td>\n",
       "      <td>1</td>\n",
       "      <td>2013</td>\n",
       "      <td>15</td>\n",
       "      <td>12.0</td>\n",
       "    </tr>\n",
       "    <tr>\n",
       "      <th>2</th>\n",
       "      <td>1</td>\n",
       "      <td>1</td>\n",
       "      <td>2013</td>\n",
       "      <td>25</td>\n",
       "      <td>NaN</td>\n",
       "    </tr>\n",
       "    <tr>\n",
       "      <th>3</th>\n",
       "      <td>1</td>\n",
       "      <td>1</td>\n",
       "      <td>2013</td>\n",
       "      <td>34</td>\n",
       "      <td>NaN</td>\n",
       "    </tr>\n",
       "    <tr>\n",
       "      <th>4</th>\n",
       "      <td>1</td>\n",
       "      <td>1</td>\n",
       "      <td>2013</td>\n",
       "      <td>60</td>\n",
       "      <td>NaN</td>\n",
       "    </tr>\n",
       "    <tr>\n",
       "      <th>...</th>\n",
       "      <td>...</td>\n",
       "      <td>...</td>\n",
       "      <td>...</td>\n",
       "      <td>...</td>\n",
       "      <td>...</td>\n",
       "    </tr>\n",
       "    <tr>\n",
       "      <th>33779</th>\n",
       "      <td>28</td>\n",
       "      <td>4</td>\n",
       "      <td>2015</td>\n",
       "      <td>19</td>\n",
       "      <td>17.0</td>\n",
       "    </tr>\n",
       "    <tr>\n",
       "      <th>33780</th>\n",
       "      <td>28</td>\n",
       "      <td>4</td>\n",
       "      <td>2015</td>\n",
       "      <td>64</td>\n",
       "      <td>17.0</td>\n",
       "    </tr>\n",
       "    <tr>\n",
       "      <th>33781</th>\n",
       "      <td>28</td>\n",
       "      <td>4</td>\n",
       "      <td>2015</td>\n",
       "      <td>12</td>\n",
       "      <td>16.0</td>\n",
       "    </tr>\n",
       "    <tr>\n",
       "      <th>33782</th>\n",
       "      <td>28</td>\n",
       "      <td>4</td>\n",
       "      <td>2015</td>\n",
       "      <td>66</td>\n",
       "      <td>16.0</td>\n",
       "    </tr>\n",
       "    <tr>\n",
       "      <th>33783</th>\n",
       "      <td>28</td>\n",
       "      <td>4</td>\n",
       "      <td>2015</td>\n",
       "      <td>26</td>\n",
       "      <td>22.0</td>\n",
       "    </tr>\n",
       "  </tbody>\n",
       "</table>\n",
       "<p>33784 rows × 5 columns</p>\n",
       "</div>"
      ],
      "text/plain": [
       "       Days  Months  Years  Centre_Name  Price\n",
       "0         1       1   2013           10    8.0\n",
       "1         1       1   2013           15   12.0\n",
       "2         1       1   2013           25    NaN\n",
       "3         1       1   2013           34    NaN\n",
       "4         1       1   2013           60    NaN\n",
       "...     ...     ...    ...          ...    ...\n",
       "33779    28       4   2015           19   17.0\n",
       "33780    28       4   2015           64   17.0\n",
       "33781    28       4   2015           12   16.0\n",
       "33782    28       4   2015           66   16.0\n",
       "33783    28       4   2015           26   22.0\n",
       "\n",
       "[33784 rows x 5 columns]"
      ]
     },
     "execution_count": 62,
     "metadata": {},
     "output_type": "execute_result"
    }
   ],
   "source": [
    "new_dataframe"
   ]
  },
  {
   "cell_type": "code",
   "execution_count": 69,
   "id": "6f91470b-34e0-493f-8cf9-94d951f8a38f",
   "metadata": {},
   "outputs": [
    {
     "data": {
      "text/plain": [
       "5247"
      ]
     },
     "execution_count": 69,
     "metadata": {},
     "output_type": "execute_result"
    }
   ],
   "source": [
    "# price column\n",
    "# count missing values\n",
    "new_dataframe.Price.isna().sum()"
   ]
  },
  {
   "cell_type": "code",
   "execution_count": 72,
   "id": "e8ff5e46-7735-4cb3-b59f-12ac531387b4",
   "metadata": {},
   "outputs": [],
   "source": [
    "new_dataframe.dropna(inplace=True)"
   ]
  },
  {
   "cell_type": "code",
   "execution_count": 73,
   "id": "f71c1d31-0c26-40a5-854a-03ccb730f29d",
   "metadata": {},
   "outputs": [
    {
     "data": {
      "text/html": [
       "<div>\n",
       "<style scoped>\n",
       "    .dataframe tbody tr th:only-of-type {\n",
       "        vertical-align: middle;\n",
       "    }\n",
       "\n",
       "    .dataframe tbody tr th {\n",
       "        vertical-align: top;\n",
       "    }\n",
       "\n",
       "    .dataframe thead th {\n",
       "        text-align: right;\n",
       "    }\n",
       "</style>\n",
       "<table border=\"1\" class=\"dataframe\">\n",
       "  <thead>\n",
       "    <tr style=\"text-align: right;\">\n",
       "      <th></th>\n",
       "      <th>Days</th>\n",
       "      <th>Months</th>\n",
       "      <th>Years</th>\n",
       "      <th>Centre_Name</th>\n",
       "      <th>Price</th>\n",
       "    </tr>\n",
       "  </thead>\n",
       "  <tbody>\n",
       "    <tr>\n",
       "      <th>0</th>\n",
       "      <td>1</td>\n",
       "      <td>1</td>\n",
       "      <td>2013</td>\n",
       "      <td>10</td>\n",
       "      <td>8.0</td>\n",
       "    </tr>\n",
       "    <tr>\n",
       "      <th>1</th>\n",
       "      <td>1</td>\n",
       "      <td>1</td>\n",
       "      <td>2013</td>\n",
       "      <td>15</td>\n",
       "      <td>12.0</td>\n",
       "    </tr>\n",
       "    <tr>\n",
       "      <th>5</th>\n",
       "      <td>1</td>\n",
       "      <td>1</td>\n",
       "      <td>2013</td>\n",
       "      <td>40</td>\n",
       "      <td>16.0</td>\n",
       "    </tr>\n",
       "    <tr>\n",
       "      <th>6</th>\n",
       "      <td>1</td>\n",
       "      <td>1</td>\n",
       "      <td>2013</td>\n",
       "      <td>62</td>\n",
       "      <td>20.0</td>\n",
       "    </tr>\n",
       "    <tr>\n",
       "      <th>7</th>\n",
       "      <td>1</td>\n",
       "      <td>1</td>\n",
       "      <td>2013</td>\n",
       "      <td>31</td>\n",
       "      <td>15.0</td>\n",
       "    </tr>\n",
       "    <tr>\n",
       "      <th>...</th>\n",
       "      <td>...</td>\n",
       "      <td>...</td>\n",
       "      <td>...</td>\n",
       "      <td>...</td>\n",
       "      <td>...</td>\n",
       "    </tr>\n",
       "    <tr>\n",
       "      <th>33779</th>\n",
       "      <td>28</td>\n",
       "      <td>4</td>\n",
       "      <td>2015</td>\n",
       "      <td>19</td>\n",
       "      <td>17.0</td>\n",
       "    </tr>\n",
       "    <tr>\n",
       "      <th>33780</th>\n",
       "      <td>28</td>\n",
       "      <td>4</td>\n",
       "      <td>2015</td>\n",
       "      <td>64</td>\n",
       "      <td>17.0</td>\n",
       "    </tr>\n",
       "    <tr>\n",
       "      <th>33781</th>\n",
       "      <td>28</td>\n",
       "      <td>4</td>\n",
       "      <td>2015</td>\n",
       "      <td>12</td>\n",
       "      <td>16.0</td>\n",
       "    </tr>\n",
       "    <tr>\n",
       "      <th>33782</th>\n",
       "      <td>28</td>\n",
       "      <td>4</td>\n",
       "      <td>2015</td>\n",
       "      <td>66</td>\n",
       "      <td>16.0</td>\n",
       "    </tr>\n",
       "    <tr>\n",
       "      <th>33783</th>\n",
       "      <td>28</td>\n",
       "      <td>4</td>\n",
       "      <td>2015</td>\n",
       "      <td>26</td>\n",
       "      <td>22.0</td>\n",
       "    </tr>\n",
       "  </tbody>\n",
       "</table>\n",
       "<p>28537 rows × 5 columns</p>\n",
       "</div>"
      ],
      "text/plain": [
       "       Days  Months  Years  Centre_Name  Price\n",
       "0         1       1   2013           10    8.0\n",
       "1         1       1   2013           15   12.0\n",
       "5         1       1   2013           40   16.0\n",
       "6         1       1   2013           62   20.0\n",
       "7         1       1   2013           31   15.0\n",
       "...     ...     ...    ...          ...    ...\n",
       "33779    28       4   2015           19   17.0\n",
       "33780    28       4   2015           64   17.0\n",
       "33781    28       4   2015           12   16.0\n",
       "33782    28       4   2015           66   16.0\n",
       "33783    28       4   2015           26   22.0\n",
       "\n",
       "[28537 rows x 5 columns]"
      ]
     },
     "execution_count": 73,
     "metadata": {},
     "output_type": "execute_result"
    }
   ],
   "source": [
    "new_dataframe"
   ]
  },
  {
   "cell_type": "markdown",
   "id": "329a73af-1fed-4574-ae54-ea9a2e7a1820",
   "metadata": {},
   "source": [
    "# data spliting"
   ]
  },
  {
   "cell_type": "code",
   "execution_count": 74,
   "id": "389d5d1b-5fd3-484e-8d12-ccc6c930844b",
   "metadata": {},
   "outputs": [],
   "source": [
    "# determine x and y\n",
    "X = new_dataframe.iloc[:,:-1]\n",
    "Y = new_dataframe.iloc[:,-1]"
   ]
  },
  {
   "cell_type": "code",
   "execution_count": 75,
   "id": "52f4117a-92cd-45a4-a89c-a934853fdc97",
   "metadata": {},
   "outputs": [
    {
     "data": {
      "text/plain": [
       "(28537, 4)"
      ]
     },
     "execution_count": 75,
     "metadata": {},
     "output_type": "execute_result"
    }
   ],
   "source": [
    "X.shape"
   ]
  },
  {
   "cell_type": "code",
   "execution_count": 76,
   "id": "64db50a3-0a78-4ef7-a430-2cc67c950a31",
   "metadata": {},
   "outputs": [
    {
     "data": {
      "text/plain": [
       "(28537,)"
      ]
     },
     "execution_count": 76,
     "metadata": {},
     "output_type": "execute_result"
    }
   ],
   "source": [
    "Y.shape"
   ]
  },
  {
   "cell_type": "code",
   "execution_count": 77,
   "id": "3c37011e-9ad1-417e-8134-4d446d9f2393",
   "metadata": {},
   "outputs": [],
   "source": [
    "from sklearn.model_selection import train_test_split\n",
    "x_train, x_test, y_train, y_test = train_test_split(X, Y, test_size=0.2, random_state=5)"
   ]
  },
  {
   "cell_type": "markdown",
   "id": "9dd63d3b-1746-49e9-9a3d-54741f653771",
   "metadata": {},
   "source": [
    "# apply Scaling"
   ]
  },
  {
   "cell_type": "code",
   "execution_count": 78,
   "id": "e6fc605e-0874-433d-9675-c4437ec5ed82",
   "metadata": {},
   "outputs": [],
   "source": [
    "from sklearn.preprocessing import StandardScaler\n",
    "Scaler = StandardScaler()\n",
    "x_train_scaled = Scaler.fit_transform(x_train)\n",
    "x_test_scaled = Scaler.transform(x_test)"
   ]
  },
  {
   "cell_type": "markdown",
   "id": "2b93d775-1302-40be-8623-9725e3f342ac",
   "metadata": {},
   "source": [
    "# Model Building and Training"
   ]
  },
  {
   "cell_type": "code",
   "execution_count": 79,
   "id": "9f49b7fd-7879-49ee-84b0-62caecf0837a",
   "metadata": {},
   "outputs": [
    {
     "data": {
      "text/html": [
       "<style>#sk-container-id-1 {color: black;background-color: white;}#sk-container-id-1 pre{padding: 0;}#sk-container-id-1 div.sk-toggleable {background-color: white;}#sk-container-id-1 label.sk-toggleable__label {cursor: pointer;display: block;width: 100%;margin-bottom: 0;padding: 0.3em;box-sizing: border-box;text-align: center;}#sk-container-id-1 label.sk-toggleable__label-arrow:before {content: \"▸\";float: left;margin-right: 0.25em;color: #696969;}#sk-container-id-1 label.sk-toggleable__label-arrow:hover:before {color: black;}#sk-container-id-1 div.sk-estimator:hover label.sk-toggleable__label-arrow:before {color: black;}#sk-container-id-1 div.sk-toggleable__content {max-height: 0;max-width: 0;overflow: hidden;text-align: left;background-color: #f0f8ff;}#sk-container-id-1 div.sk-toggleable__content pre {margin: 0.2em;color: black;border-radius: 0.25em;background-color: #f0f8ff;}#sk-container-id-1 input.sk-toggleable__control:checked~div.sk-toggleable__content {max-height: 200px;max-width: 100%;overflow: auto;}#sk-container-id-1 input.sk-toggleable__control:checked~label.sk-toggleable__label-arrow:before {content: \"▾\";}#sk-container-id-1 div.sk-estimator input.sk-toggleable__control:checked~label.sk-toggleable__label {background-color: #d4ebff;}#sk-container-id-1 div.sk-label input.sk-toggleable__control:checked~label.sk-toggleable__label {background-color: #d4ebff;}#sk-container-id-1 input.sk-hidden--visually {border: 0;clip: rect(1px 1px 1px 1px);clip: rect(1px, 1px, 1px, 1px);height: 1px;margin: -1px;overflow: hidden;padding: 0;position: absolute;width: 1px;}#sk-container-id-1 div.sk-estimator {font-family: monospace;background-color: #f0f8ff;border: 1px dotted black;border-radius: 0.25em;box-sizing: border-box;margin-bottom: 0.5em;}#sk-container-id-1 div.sk-estimator:hover {background-color: #d4ebff;}#sk-container-id-1 div.sk-parallel-item::after {content: \"\";width: 100%;border-bottom: 1px solid gray;flex-grow: 1;}#sk-container-id-1 div.sk-label:hover label.sk-toggleable__label {background-color: #d4ebff;}#sk-container-id-1 div.sk-serial::before {content: \"\";position: absolute;border-left: 1px solid gray;box-sizing: border-box;top: 0;bottom: 0;left: 50%;z-index: 0;}#sk-container-id-1 div.sk-serial {display: flex;flex-direction: column;align-items: center;background-color: white;padding-right: 0.2em;padding-left: 0.2em;position: relative;}#sk-container-id-1 div.sk-item {position: relative;z-index: 1;}#sk-container-id-1 div.sk-parallel {display: flex;align-items: stretch;justify-content: center;background-color: white;position: relative;}#sk-container-id-1 div.sk-item::before, #sk-container-id-1 div.sk-parallel-item::before {content: \"\";position: absolute;border-left: 1px solid gray;box-sizing: border-box;top: 0;bottom: 0;left: 50%;z-index: -1;}#sk-container-id-1 div.sk-parallel-item {display: flex;flex-direction: column;z-index: 1;position: relative;background-color: white;}#sk-container-id-1 div.sk-parallel-item:first-child::after {align-self: flex-end;width: 50%;}#sk-container-id-1 div.sk-parallel-item:last-child::after {align-self: flex-start;width: 50%;}#sk-container-id-1 div.sk-parallel-item:only-child::after {width: 0;}#sk-container-id-1 div.sk-dashed-wrapped {border: 1px dashed gray;margin: 0 0.4em 0.5em 0.4em;box-sizing: border-box;padding-bottom: 0.4em;background-color: white;}#sk-container-id-1 div.sk-label label {font-family: monospace;font-weight: bold;display: inline-block;line-height: 1.2em;}#sk-container-id-1 div.sk-label-container {text-align: center;}#sk-container-id-1 div.sk-container {/* jupyter's `normalize.less` sets `[hidden] { display: none; }` but bootstrap.min.css set `[hidden] { display: none !important; }` so we also need the `!important` here to be able to override the default hidden behavior on the sphinx rendered scikit-learn.org. See: https://github.com/scikit-learn/scikit-learn/issues/21755 */display: inline-block !important;position: relative;}#sk-container-id-1 div.sk-text-repr-fallback {display: none;}</style><div id=\"sk-container-id-1\" class=\"sk-top-container\"><div class=\"sk-text-repr-fallback\"><pre>LinearRegression()</pre><b>In a Jupyter environment, please rerun this cell to show the HTML representation or trust the notebook. <br />On GitHub, the HTML representation is unable to render, please try loading this page with nbviewer.org.</b></div><div class=\"sk-container\" hidden><div class=\"sk-item\"><div class=\"sk-estimator sk-toggleable\"><input class=\"sk-toggleable__control sk-hidden--visually\" id=\"sk-estimator-id-1\" type=\"checkbox\" checked><label for=\"sk-estimator-id-1\" class=\"sk-toggleable__label sk-toggleable__label-arrow\">LinearRegression</label><div class=\"sk-toggleable__content\"><pre>LinearRegression()</pre></div></div></div></div></div>"
      ],
      "text/plain": [
       "LinearRegression()"
      ]
     },
     "execution_count": 79,
     "metadata": {},
     "output_type": "execute_result"
    }
   ],
   "source": [
    "from sklearn.linear_model import LinearRegression\n",
    "linear_regression_model = LinearRegression()\n",
    "linear_regression_model.fit(x_train_scaled, y_train)"
   ]
  },
  {
   "cell_type": "code",
   "execution_count": 80,
   "id": "15d0fe4b-ca52-4011-a0c4-1dac80b56f46",
   "metadata": {},
   "outputs": [
    {
     "data": {
      "text/plain": [
       "array([0.02760853, 3.96420013, 1.85452994, 0.36360988])"
      ]
     },
     "execution_count": 80,
     "metadata": {},
     "output_type": "execute_result"
    }
   ],
   "source": [
    "linear_regression_model.coef_"
   ]
  },
  {
   "cell_type": "code",
   "execution_count": 81,
   "id": "736dee4b-b988-4f43-95da-ac73b041e10c",
   "metadata": {},
   "outputs": [
    {
     "data": {
      "text/plain": [
       "19.65118927679707"
      ]
     },
     "execution_count": 81,
     "metadata": {},
     "output_type": "execute_result"
    }
   ],
   "source": [
    "linear_regression_model.intercept_"
   ]
  },
  {
   "cell_type": "code",
   "execution_count": 82,
   "id": "e76fb6a9-72ae-4e43-9f5f-802d42d06ec3",
   "metadata": {},
   "outputs": [
    {
     "data": {
      "text/plain": [
       "array([16.85164221, 13.08040603, 17.5160967 , ..., 27.14813314,\n",
       "       14.37901194, 25.43555818])"
      ]
     },
     "execution_count": 82,
     "metadata": {},
     "output_type": "execute_result"
    }
   ],
   "source": [
    "y_predict = linear_regression_model.predict(x_test_scaled) \n",
    "y_predict"
   ]
  },
  {
   "cell_type": "code",
   "execution_count": 83,
   "id": "ab4297eb-1fa1-4dfb-b08a-d43094438a6b",
   "metadata": {},
   "outputs": [
    {
     "data": {
      "text/plain": [
       "39.368638743233205"
      ]
     },
     "execution_count": 83,
     "metadata": {},
     "output_type": "execute_result"
    }
   ],
   "source": [
    "from sklearn.metrics import mean_absolute_error, mean_squared_error\n",
    "MSE = mean_squared_error(y_test, y_predict)\n",
    "MSE"
   ]
  },
  {
   "cell_type": "code",
   "execution_count": 84,
   "id": "a6ef7063-d34e-4e1f-a903-10cdb899364f",
   "metadata": {},
   "outputs": [
    {
     "data": {
      "text/plain": [
       "4.925532265833125"
      ]
     },
     "execution_count": 84,
     "metadata": {},
     "output_type": "execute_result"
    }
   ],
   "source": [
    "MAE = mean_absolute_error(y_test, y_predict)\n",
    "MAE"
   ]
  }
 ],
 "metadata": {
  "kernelspec": {
   "display_name": "Python 3 (ipykernel)",
   "language": "python",
   "name": "python3"
  },
  "language_info": {
   "codemirror_mode": {
    "name": "ipython",
    "version": 3
   },
   "file_extension": ".py",
   "mimetype": "text/x-python",
   "name": "python",
   "nbconvert_exporter": "python",
   "pygments_lexer": "ipython3",
   "version": "3.9.13"
  }
 },
 "nbformat": 4,
 "nbformat_minor": 5
}
